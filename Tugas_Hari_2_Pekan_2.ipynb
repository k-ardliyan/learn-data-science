{
  "nbformat": 4,
  "nbformat_minor": 0,
  "metadata": {
    "kernelspec": {
      "display_name": "Python 3",
      "language": "python",
      "name": "python3"
    },
    "language_info": {
      "codemirror_mode": {
        "name": "ipython",
        "version": 3
      },
      "file_extension": ".py",
      "mimetype": "text/x-python",
      "name": "python",
      "nbconvert_exporter": "python",
      "pygments_lexer": "ipython3",
      "version": "3.7.7"
    },
    "colab": {
      "name": "Tugas Hari 2 Pekan 2.ipynb",
      "provenance": [],
      "include_colab_link": true
    }
  },
  "cells": [
    {
      "cell_type": "markdown",
      "metadata": {
        "id": "view-in-github",
        "colab_type": "text"
      },
      "source": [
        "<a href=\"https://colab.research.google.com/github/k-ardliyan/learn-data-science/blob/master/Tugas_Hari_2_Pekan_2.ipynb\" target=\"_parent\"><img src=\"https://colab.research.google.com/assets/colab-badge.svg\" alt=\"Open In Colab\"/></a>"
      ]
    },
    {
      "cell_type": "code",
      "metadata": {
        "id": "GyakVoXhBGrv",
        "colab_type": "code",
        "colab": {
          "base_uri": "https://localhost:8080/",
          "height": 202
        },
        "outputId": "a92c5aba-b17f-4a4a-869e-160f02f1740a"
      },
      "source": [
        "# Persiapan membuat data\n",
        "import pandas as pd\n",
        "import random\n",
        "\n",
        "pelajaran = ['Matematika', 'Fisika', 'Biologi', 'Kimia', 'Geologi', 'Ekonomi']\n",
        "kelas = ['12A', '12B', '12C', '12D']\n",
        "\n",
        "hasil_nilai = {\n",
        "    'siswa_id' : range(1, 21),\n",
        "    'pelajaran' : [random.choice(pelajaran) for i in range(20)],\n",
        "    'nilai' : [random.choice(range(0, 100)) for i in range(20)],\n",
        "    'jenis-kelamin' : [random.choice(['laki-laki', 'perempuan']) for i in range(20)],\n",
        "    'kelas' : [random.choice(kelas) for i in range(20)]\n",
        "}\n",
        "\n",
        "df = pd.DataFrame(hasil_nilai)\n",
        "df.head()"
      ],
      "execution_count": 1,
      "outputs": [
        {
          "output_type": "execute_result",
          "data": {
            "text/html": [
              "<div>\n",
              "<style scoped>\n",
              "    .dataframe tbody tr th:only-of-type {\n",
              "        vertical-align: middle;\n",
              "    }\n",
              "\n",
              "    .dataframe tbody tr th {\n",
              "        vertical-align: top;\n",
              "    }\n",
              "\n",
              "    .dataframe thead th {\n",
              "        text-align: right;\n",
              "    }\n",
              "</style>\n",
              "<table border=\"1\" class=\"dataframe\">\n",
              "  <thead>\n",
              "    <tr style=\"text-align: right;\">\n",
              "      <th></th>\n",
              "      <th>siswa_id</th>\n",
              "      <th>pelajaran</th>\n",
              "      <th>nilai</th>\n",
              "      <th>jenis-kelamin</th>\n",
              "      <th>kelas</th>\n",
              "    </tr>\n",
              "  </thead>\n",
              "  <tbody>\n",
              "    <tr>\n",
              "      <th>0</th>\n",
              "      <td>1</td>\n",
              "      <td>Biologi</td>\n",
              "      <td>33</td>\n",
              "      <td>laki-laki</td>\n",
              "      <td>12C</td>\n",
              "    </tr>\n",
              "    <tr>\n",
              "      <th>1</th>\n",
              "      <td>2</td>\n",
              "      <td>Kimia</td>\n",
              "      <td>80</td>\n",
              "      <td>laki-laki</td>\n",
              "      <td>12C</td>\n",
              "    </tr>\n",
              "    <tr>\n",
              "      <th>2</th>\n",
              "      <td>3</td>\n",
              "      <td>Geologi</td>\n",
              "      <td>78</td>\n",
              "      <td>laki-laki</td>\n",
              "      <td>12C</td>\n",
              "    </tr>\n",
              "    <tr>\n",
              "      <th>3</th>\n",
              "      <td>4</td>\n",
              "      <td>Ekonomi</td>\n",
              "      <td>36</td>\n",
              "      <td>perempuan</td>\n",
              "      <td>12A</td>\n",
              "    </tr>\n",
              "    <tr>\n",
              "      <th>4</th>\n",
              "      <td>5</td>\n",
              "      <td>Ekonomi</td>\n",
              "      <td>74</td>\n",
              "      <td>perempuan</td>\n",
              "      <td>12A</td>\n",
              "    </tr>\n",
              "  </tbody>\n",
              "</table>\n",
              "</div>"
            ],
            "text/plain": [
              "   siswa_id pelajaran  nilai jenis-kelamin kelas\n",
              "0         1   Biologi     33     laki-laki   12C\n",
              "1         2     Kimia     80     laki-laki   12C\n",
              "2         3   Geologi     78     laki-laki   12C\n",
              "3         4   Ekonomi     36     perempuan   12A\n",
              "4         5   Ekonomi     74     perempuan   12A"
            ]
          },
          "metadata": {
            "tags": []
          },
          "execution_count": 1
        }
      ]
    },
    {
      "cell_type": "markdown",
      "metadata": {
        "id": "aNoScqypBGr5",
        "colab_type": "text"
      },
      "source": [
        "<h2>Soal 1: Indexing</h2>\n",
        "\n",
        "1. Lakukan indexing terhadap dataframe untuk mengakses column nilai dan kelas saja\n",
        "2. Lakukan indexing terhadap dataframe untuk mengakses row 5 sampai 10 beserta column pelajaran dan nilai"
      ]
    },
    {
      "cell_type": "code",
      "metadata": {
        "id": "rKmgvnS2BGr6",
        "colab_type": "code",
        "colab": {
          "base_uri": "https://localhost:8080/",
          "height": 537
        },
        "outputId": "62f1a4fb-8763-4742-dc42-f612524b0002"
      },
      "source": [
        "# code here\n",
        "# Indexing untuk menampilkan column nilai dan kelas\n",
        "df_1 = df[['nilai', 'kelas']]\n",
        "print(df_1)\n",
        "print('\\n')\n",
        "# Indexing untuk menampilkan column pelajaran dan nilai baris 5 sampai 10\n",
        "df_2 = df.loc[4:9, 'pelajaran':'nilai']   # Indexing 4:9 karena nilai awal index = 0\n",
        "print(df_2)"
      ],
      "execution_count": 2,
      "outputs": [
        {
          "output_type": "stream",
          "text": [
            "    nilai kelas\n",
            "0      33   12C\n",
            "1      80   12C\n",
            "2      78   12C\n",
            "3      36   12A\n",
            "4      74   12A\n",
            "5      58   12D\n",
            "6      35   12B\n",
            "7      18   12D\n",
            "8      10   12D\n",
            "9      10   12D\n",
            "10      5   12C\n",
            "11     49   12B\n",
            "12     73   12A\n",
            "13      8   12B\n",
            "14     66   12B\n",
            "15     42   12A\n",
            "16      6   12D\n",
            "17     85   12C\n",
            "18     61   12D\n",
            "19     63   12A\n",
            "\n",
            "\n",
            "    pelajaran  nilai\n",
            "4     Ekonomi     74\n",
            "5       Kimia     58\n",
            "6     Geologi     35\n",
            "7     Geologi     18\n",
            "8  Matematika     10\n",
            "9      Fisika     10\n"
          ],
          "name": "stdout"
        }
      ]
    },
    {
      "cell_type": "markdown",
      "metadata": {
        "id": "F55zUl5GBGr_",
        "colab_type": "text"
      },
      "source": [
        "<h2>Soal 2: Filter DataFrame Dengan Boolean</h2>\n",
        "\n",
        "1. Tampilkan semua data siswa pada mata pelajaran Ekonomi dan Fisika\n",
        "2. Tampilkan semua data siswa yang mempunyai nilai lebih dari 50 di mata pelajaran Kimia \n",
        "3. Tampilkan semua data yang mempunyai nilai lebih dari 70, berjnis kelamin perempuan dan di kelas 12C"
      ]
    },
    {
      "cell_type": "code",
      "metadata": {
        "id": "eB5oSf_KBGsA",
        "colab_type": "code",
        "colab": {
          "base_uri": "https://localhost:8080/",
          "height": 347
        },
        "outputId": "dd3c6d28-ab66-40d1-c575-3a438f2de727"
      },
      "source": [
        "# code here\n",
        "# Menampilkan data siswa pada mata pelajaran Ekonomi dan Fisika\n",
        "ekonomi = df['pelajaran'] == 'Ekonomi'\n",
        "fisika = df['pelajaran'] == 'Fisika'\n",
        "print(df[(ekonomi) | (fisika)])\n",
        "print('\\n')\n",
        "# Menampilkan data siswa dengan nilai > 50 pada mata pelajaran Ekonomi\n",
        "lebih50 = df['nilai'] > 50\n",
        "kimia = df['pelajaran'] == 'Kimia'\n",
        "print(df[(lebih50) & (kimia)])\n",
        "print('\\n')\n",
        "# Menampilkan data siswa perempuan dengan nilai > 70 di kelas 12 C\n",
        "lebih70 = df['nilai'] > 70\n",
        "kelas12c = df['kelas'] == '12C'\n",
        "perempuan = df['jenis-kelamin'] == 'perempuan'\n",
        "print(df[(lebih70) & (kelas12c) & (perempuan)])"
      ],
      "execution_count": 3,
      "outputs": [
        {
          "output_type": "stream",
          "text": [
            "    siswa_id pelajaran  nilai jenis-kelamin kelas\n",
            "3          4   Ekonomi     36     perempuan   12A\n",
            "4          5   Ekonomi     74     perempuan   12A\n",
            "9         10    Fisika     10     laki-laki   12D\n",
            "12        13   Ekonomi     73     perempuan   12A\n",
            "13        14    Fisika      8     laki-laki   12B\n",
            "15        16    Fisika     42     perempuan   12A\n",
            "16        17    Fisika      6     perempuan   12D\n",
            "17        18    Fisika     85     perempuan   12C\n",
            "19        20   Ekonomi     63     laki-laki   12A\n",
            "\n",
            "\n",
            "   siswa_id pelajaran  nilai jenis-kelamin kelas\n",
            "1         2     Kimia     80     laki-laki   12C\n",
            "5         6     Kimia     58     perempuan   12D\n",
            "\n",
            "\n",
            "    siswa_id pelajaran  nilai jenis-kelamin kelas\n",
            "17        18    Fisika     85     perempuan   12C\n"
          ],
          "name": "stdout"
        }
      ]
    },
    {
      "cell_type": "markdown",
      "metadata": {
        "id": "6Od6R3H1BGsE",
        "colab_type": "text"
      },
      "source": [
        "<h2>Soal 3: Data Transformation</h2>\n",
        "\n",
        "lakukan data transformasi terhadap column 'nilai' dengan fungsi transformasi, berikut rumus dari normalisasi\n",
        "\n",
        "![alt text](https://drive.google.com/uc?id=1wed-EbRSTA0JP1ceDp6lcKBqH2yJ4aa3)"
      ]
    },
    {
      "cell_type": "code",
      "metadata": {
        "id": "qeV_iH8nBGsF",
        "colab_type": "code",
        "colab": {
          "base_uri": "https://localhost:8080/",
          "height": 662
        },
        "outputId": "081aa936-a124-4daf-e829-0a65d9f03477"
      },
      "source": [
        "# code here\n",
        "# Mendefinisikan fungsi normalisasi\n",
        "def normalisasi(x):\n",
        "  return (x - x.min()) / (x.max() - x.min())\n",
        "\n",
        "# Memanggil dan menampilkan hasil dari fungsi normalisasi\n",
        "df_nilai_normal = df[['nilai']].apply(normalisasi)\n",
        "df_nilai_normal"
      ],
      "execution_count": 4,
      "outputs": [
        {
          "output_type": "execute_result",
          "data": {
            "text/html": [
              "<div>\n",
              "<style scoped>\n",
              "    .dataframe tbody tr th:only-of-type {\n",
              "        vertical-align: middle;\n",
              "    }\n",
              "\n",
              "    .dataframe tbody tr th {\n",
              "        vertical-align: top;\n",
              "    }\n",
              "\n",
              "    .dataframe thead th {\n",
              "        text-align: right;\n",
              "    }\n",
              "</style>\n",
              "<table border=\"1\" class=\"dataframe\">\n",
              "  <thead>\n",
              "    <tr style=\"text-align: right;\">\n",
              "      <th></th>\n",
              "      <th>nilai</th>\n",
              "    </tr>\n",
              "  </thead>\n",
              "  <tbody>\n",
              "    <tr>\n",
              "      <th>0</th>\n",
              "      <td>0.3500</td>\n",
              "    </tr>\n",
              "    <tr>\n",
              "      <th>1</th>\n",
              "      <td>0.9375</td>\n",
              "    </tr>\n",
              "    <tr>\n",
              "      <th>2</th>\n",
              "      <td>0.9125</td>\n",
              "    </tr>\n",
              "    <tr>\n",
              "      <th>3</th>\n",
              "      <td>0.3875</td>\n",
              "    </tr>\n",
              "    <tr>\n",
              "      <th>4</th>\n",
              "      <td>0.8625</td>\n",
              "    </tr>\n",
              "    <tr>\n",
              "      <th>5</th>\n",
              "      <td>0.6625</td>\n",
              "    </tr>\n",
              "    <tr>\n",
              "      <th>6</th>\n",
              "      <td>0.3750</td>\n",
              "    </tr>\n",
              "    <tr>\n",
              "      <th>7</th>\n",
              "      <td>0.1625</td>\n",
              "    </tr>\n",
              "    <tr>\n",
              "      <th>8</th>\n",
              "      <td>0.0625</td>\n",
              "    </tr>\n",
              "    <tr>\n",
              "      <th>9</th>\n",
              "      <td>0.0625</td>\n",
              "    </tr>\n",
              "    <tr>\n",
              "      <th>10</th>\n",
              "      <td>0.0000</td>\n",
              "    </tr>\n",
              "    <tr>\n",
              "      <th>11</th>\n",
              "      <td>0.5500</td>\n",
              "    </tr>\n",
              "    <tr>\n",
              "      <th>12</th>\n",
              "      <td>0.8500</td>\n",
              "    </tr>\n",
              "    <tr>\n",
              "      <th>13</th>\n",
              "      <td>0.0375</td>\n",
              "    </tr>\n",
              "    <tr>\n",
              "      <th>14</th>\n",
              "      <td>0.7625</td>\n",
              "    </tr>\n",
              "    <tr>\n",
              "      <th>15</th>\n",
              "      <td>0.4625</td>\n",
              "    </tr>\n",
              "    <tr>\n",
              "      <th>16</th>\n",
              "      <td>0.0125</td>\n",
              "    </tr>\n",
              "    <tr>\n",
              "      <th>17</th>\n",
              "      <td>1.0000</td>\n",
              "    </tr>\n",
              "    <tr>\n",
              "      <th>18</th>\n",
              "      <td>0.7000</td>\n",
              "    </tr>\n",
              "    <tr>\n",
              "      <th>19</th>\n",
              "      <td>0.7250</td>\n",
              "    </tr>\n",
              "  </tbody>\n",
              "</table>\n",
              "</div>"
            ],
            "text/plain": [
              "     nilai\n",
              "0   0.3500\n",
              "1   0.9375\n",
              "2   0.9125\n",
              "3   0.3875\n",
              "4   0.8625\n",
              "5   0.6625\n",
              "6   0.3750\n",
              "7   0.1625\n",
              "8   0.0625\n",
              "9   0.0625\n",
              "10  0.0000\n",
              "11  0.5500\n",
              "12  0.8500\n",
              "13  0.0375\n",
              "14  0.7625\n",
              "15  0.4625\n",
              "16  0.0125\n",
              "17  1.0000\n",
              "18  0.7000\n",
              "19  0.7250"
            ]
          },
          "metadata": {
            "tags": []
          },
          "execution_count": 4
        }
      ]
    }
  ]
}