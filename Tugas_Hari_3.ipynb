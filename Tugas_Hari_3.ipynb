{
  "nbformat": 4,
  "nbformat_minor": 0,
  "metadata": {
    "kernelspec": {
      "display_name": "Python 3",
      "language": "python",
      "name": "python3"
    },
    "language_info": {
      "codemirror_mode": {
        "name": "ipython",
        "version": 3
      },
      "file_extension": ".py",
      "mimetype": "text/x-python",
      "name": "python",
      "nbconvert_exporter": "python",
      "pygments_lexer": "ipython3",
      "version": "3.7.7"
    },
    "colab": {
      "name": "Tugas Hari 3.ipynb",
      "provenance": [],
      "include_colab_link": true
    }
  },
  "cells": [
    {
      "cell_type": "markdown",
      "metadata": {
        "id": "view-in-github",
        "colab_type": "text"
      },
      "source": [
        "<a href=\"https://colab.research.google.com/github/k-ardliyan/learn-data-science/blob/master/Tugas_Hari_3.ipynb\" target=\"_parent\"><img src=\"https://colab.research.google.com/assets/colab-badge.svg\" alt=\"Open In Colab\"/></a>"
      ]
    },
    {
      "cell_type": "markdown",
      "metadata": {
        "id": "a9HYUdCUsrKl",
        "colab_type": "text"
      },
      "source": [
        "<h2>Soal 1: Comparison Operator</h2>\n",
        "\n",
        "- Berikan contoh comparison dari tipe data string\n",
        "- Berikan contoh comparison dari tipe data boolean\n",
        "- Berikan contoh comparison dari tipe data integer"
      ]
    },
    {
      "cell_type": "code",
      "metadata": {
        "id": "lXMCHZ71srKp",
        "colab_type": "code",
        "colab": {
          "base_uri": "https://localhost:8080/",
          "height": 85
        },
        "outputId": "84480847-459a-4626-bcfa-824bcbe45a48"
      },
      "source": [
        "print(\">>> Output:\")\n",
        "# comparison dari tipe data string\n",
        "hewan = \"Ayam\" != \"Ikan\"\n",
        "print(\"Ayam apakah itu ikan?\" ,hewan)\n",
        "\n",
        "# comparison dari tipe data boolean\n",
        "print(\"Hewan Merupakan Makhluk hidup?\", True==hewan)\n",
        "\n",
        "# comparison dari tipe data integer\n",
        "print(\"10 lebih kecil dari 7 ?\", 10 < 7)\n",
        "  "
      ],
      "execution_count": 1,
      "outputs": [
        {
          "output_type": "stream",
          "text": [
            ">>> Output:\n",
            "Ayam apakah itu ikan? True\n",
            "Hewan Merupakan Makhluk hidup? True\n",
            "10 lebih kecil dari 7 ? False\n"
          ],
          "name": "stdout"
        }
      ]
    },
    {
      "cell_type": "markdown",
      "metadata": {
        "id": "IbNoZvVssrK5",
        "colab_type": "text"
      },
      "source": [
        "<h2>Soal 2: Boolean Comparison</h2>\n",
        "\n",
        "- Berikan contoh gabungan multiple comparison menggunkan Boolean Comparisin 'and'\n",
        "- Berikan contoh gabungan multiple comparison menggunkan Boolean Comparisin 'or'\n",
        "- Berikan contoh gabungan multiple comparison menggunkan Boolean Comparisin 'not'"
      ]
    },
    {
      "cell_type": "code",
      "metadata": {
        "id": "7eU1vPLCsrK7",
        "colab_type": "code",
        "colab": {
          "base_uri": "https://localhost:8080/",
          "height": 85
        },
        "outputId": "3c1b7ea4-b94a-4e96-f2f1-d1deb2a12516"
      },
      "source": [
        "print(\">>> Output:\")\n",
        "x = 5\n",
        "# and\n",
        "print(x > 3 and x < 10)\n",
        "# or\n",
        "print(x > 3 or x < 3)\n",
        "# not\n",
        "print(not(x > 3 and x < 10))"
      ],
      "execution_count": 2,
      "outputs": [
        {
          "output_type": "stream",
          "text": [
            ">>> Output:\n",
            "True\n",
            "True\n",
            "False\n"
          ],
          "name": "stdout"
        }
      ]
    },
    {
      "cell_type": "markdown",
      "metadata": {
        "id": "Yp_g_sPMsrLH",
        "colab_type": "text"
      },
      "source": [
        "<h2>Soal 3: If-Else Statement</h2>\n",
        "\n",
        "Lengkapi kode untuk menghasilkan suatu output yang di harapkan\n",
        "\n",
        "- Bualah sebuah if-else statement yang dimana akan mem-print 'Besar' jika ruangan adalah 'Kamar' dan ukuran lebih dari 12, kemudian mem-print 'Sedang' jika ruangan adalah 'Kamar' dan ukuran lebih dari 6 dan memprint 'Kecil' jika ruangan adalah 'Kamar' dan ukuran ruangan lebih kecil dan sama dengan 6."
      ]
    },
    {
      "cell_type": "code",
      "metadata": {
        "id": "euRiRNupsrLK",
        "colab_type": "code",
        "colab": {
          "base_uri": "https://localhost:8080/",
          "height": 51
        },
        "outputId": "890ff69e-4106-42ff-998a-3ca4b5f4f7ec"
      },
      "source": [
        "print(\">>> Output:\")\n",
        "ruangan = 'Kamar'\n",
        "size = 20\n",
        "\n",
        "if size > 12 and ruangan == 'Kamar':\n",
        "    print('Besar')\n",
        "elif size > 6 and ruangan == 'Kamar':\n",
        "    print('Sedang')\n",
        "elif size <=6 and ruangan == 'Kamar':\n",
        "    print('Kecil')"
      ],
      "execution_count": 3,
      "outputs": [
        {
          "output_type": "stream",
          "text": [
            ">>> Output:\n",
            "Besar\n"
          ],
          "name": "stdout"
        }
      ]
    },
    {
      "cell_type": "markdown",
      "metadata": {
        "id": "IcoJXJT1srLW",
        "colab_type": "text"
      },
      "source": [
        "<h2>Soal 4: Comparison Operator dengan fungsi</h2>\n",
        "\n",
        "Buatlah sebuah fungsi yang menerima satu argument bertipe data numeric dan menghasilkan sebuah return sebagai berikut :\n",
        "- menghasilkan return 'Aneh' jika nilai dari argument tersebut adalah bilangan ganjil\n",
        "- menghasilkan return 'Tidak Aneh' jika nilai dari argument tersebut adalah bilangan genap dan diantara nilai 2 sampai 5 (2 dan 5 termasuk)\n",
        "- menghasilkan return 'Aneh' jika nilai dari argument tersebut adalah bilangan genap dan diantara nilai 6 sampai 20 (6 dan 20 termasuk)\n",
        "- menghasilkan return 'Tidak Aneh' jika nilai dari argument tersebut adalah bilangan genap dan lebih besari dari 20"
      ]
    },
    {
      "cell_type": "code",
      "metadata": {
        "id": "g8F_qfEKsrLZ",
        "colab_type": "code",
        "colab": {
          "base_uri": "https://localhost:8080/",
          "height": 51
        },
        "outputId": "7c5d674d-2516-4166-a963-00e5da2c73b2"
      },
      "source": [
        "print(\">>> Output:\")\n",
        "# Buat fungsi\n",
        "def checkFun(inputFun):\n",
        "  # khusus semua ganjil\n",
        "  if inputFun % 2 != 0:\n",
        "    return \"Aneh\"\n",
        "  # khusus genap antara sama dengan 2 sampai 5\n",
        "  elif inputFun % 2 == 0 and inputFun >= 2 and inputFun <= 5:\n",
        "    return \"Tidak Aneh\"\n",
        "  # khusus genap antara sama dengan 6 sampai 20\n",
        "  elif inputFun % 2 == 0 and inputFun >= 6 and inputFun <=20:\n",
        "    return \"Aneh\"\n",
        "  #khusus genap lebih dari 20\n",
        "  elif inputFun % 2 == 0 and inputFun > 20:\n",
        "    return \"Tidak Aneh\"\n",
        "print(f\"{checkFun(3)}, {checkFun(4)}, {checkFun(20)}, {checkFun(22)}\")"
      ],
      "execution_count": 4,
      "outputs": [
        {
          "output_type": "stream",
          "text": [
            ">>> Output:\n",
            "Aneh, Tidak Aneh, Aneh, Tidak Aneh\n"
          ],
          "name": "stdout"
        }
      ]
    },
    {
      "cell_type": "markdown",
      "metadata": {
        "id": "gf0D64xOsrLl",
        "colab_type": "text"
      },
      "source": [
        "<h2>Soal 5: While Loop dan For Loop</h2>\n",
        "\n",
        "- Apa perbedaan while loop dan for loop?<br/>\n",
        "> Perbedaannya adalah perulangan ***for*** biasanya digunakan untuk mengulangi kode yang sudah diketahui banyak perulangannya. Sementara ***while*** untuk perulangan yang memiliki syarat dan tidak tentu berapa banyak perulangannya.\n",
        "- Berikan contoh sederhana cara menggunakan while loop dan for loop"
      ]
    },
    {
      "cell_type": "code",
      "metadata": {
        "id": "l7KIgpjHsrLo",
        "colab_type": "code",
        "colab": {
          "base_uri": "https://localhost:8080/",
          "height": 136
        },
        "outputId": "4f97df9e-c5b4-4b4c-b8c1-e533092b41dc"
      },
      "source": [
        "print(\">>> Output:\")\n",
        "# Tulis Kode\n",
        "# For\n",
        "for i in range(3):\n",
        "  print(\"Perulangan for ke-\" + str(i+1))\n",
        "x = 0\n",
        "while x < 3:\n",
        "  print(\"Perulangan while ke-\" + str(x+1))\n",
        "  x += 1"
      ],
      "execution_count": 5,
      "outputs": [
        {
          "output_type": "stream",
          "text": [
            ">>> Output:\n",
            "Perulangan for ke-1\n",
            "Perulangan for ke-2\n",
            "Perulangan for ke-3\n",
            "Perulangan while ke-1\n",
            "Perulangan while ke-2\n",
            "Perulangan while ke-3\n"
          ],
          "name": "stdout"
        }
      ]
    },
    {
      "cell_type": "markdown",
      "metadata": {
        "id": "fZQpBGCgsrLz",
        "colab_type": "text"
      },
      "source": [
        "<h2>Soal 6: While Loop</h2>\n",
        "    \n",
        "Buatlah sebuah code while loop sebagai berikut :\n",
        "- Buatlah suatu fungsi yang merima satu input nilai numeric\n",
        "- Dalam fungsi, Buat sebuah while-loop dengan melakukan comparasi terhadap inputan tersebut, dimana looping/iterasi terus berjalan apabila nilai inputan tidak sama dengan 0\n",
        "- Dalam setiap iterasi update nilai variable inputan itu, jika input lebih dari 0, maka kurangi variabel tersebut sebesar 1, selain itu tambahkan 1\n",
        "- print nilai variable input dalam setiap awal iterasi"
      ]
    },
    {
      "cell_type": "code",
      "metadata": {
        "id": "yOiqjrU2srL1",
        "colab_type": "code",
        "colab": {
          "base_uri": "https://localhost:8080/",
          "height": 204
        },
        "outputId": "bfa6b25e-e2a6-462b-fbe5-c4ac5017d8ce"
      },
      "source": [
        "print(\">>> Output:\")\n",
        "a = 10\n",
        "def fungsi_while(inputNum):\n",
        "    while inputNum != 0:\n",
        "      print(inputNum)\n",
        "      if inputNum > 0:\n",
        "        inputNum -= 1\n",
        "      else:\n",
        "        inputNum += 1\n",
        "\n",
        "fungsi_while(a)"
      ],
      "execution_count": 6,
      "outputs": [
        {
          "output_type": "stream",
          "text": [
            ">>> Output:\n",
            "10\n",
            "9\n",
            "8\n",
            "7\n",
            "6\n",
            "5\n",
            "4\n",
            "3\n",
            "2\n",
            "1\n"
          ],
          "name": "stdout"
        }
      ]
    },
    {
      "cell_type": "markdown",
      "metadata": {
        "id": "lKzngRrlsrMD",
        "colab_type": "text"
      },
      "source": [
        "Expected Output:\n",
        "\n",
        "10\n",
        "\n",
        "9\n",
        "\n",
        "8\n",
        "\n",
        "7\n",
        "\n",
        "6\n",
        "\n",
        "5\n",
        "\n",
        "4\n",
        "\n",
        "3\n",
        "\n",
        "2\n",
        "\n",
        "1"
      ]
    },
    {
      "cell_type": "markdown",
      "metadata": {
        "id": "IWg3Z_zZsrMG",
        "colab_type": "text"
      },
      "source": [
        "<h2>Soal 7: For Loop</h2>\n",
        "    \n",
        "Lengkapi kode untuk menghasilkan suatu output yang di harapkan:\n",
        "\n",
        "- Buatlah sebuah loop dengan mengiterasi sebuah objek list kemudian di kalikan dengan index dari list tersebut dan print hasilnya"
      ]
    },
    {
      "cell_type": "code",
      "metadata": {
        "id": "_Jl5i7WKsrMI",
        "colab_type": "code",
        "colab": {
          "base_uri": "https://localhost:8080/",
          "height": 119
        },
        "outputId": "d1f5af81-ada2-4d65-9fc5-fe79f9d250f8"
      },
      "source": [
        "print(\">>> Output:\")\n",
        "obj_list= [1, 16, 11, 10, 5]\n",
        "\n",
        "# lengkapi code di bawah\n",
        "for index, i in enumerate(obj_list):\n",
        "    print(i*index)\n"
      ],
      "execution_count": 7,
      "outputs": [
        {
          "output_type": "stream",
          "text": [
            ">>> Output:\n",
            "0\n",
            "16\n",
            "22\n",
            "30\n",
            "20\n"
          ],
          "name": "stdout"
        }
      ]
    },
    {
      "cell_type": "markdown",
      "metadata": {
        "id": "OGawROjnsrMU",
        "colab_type": "text"
      },
      "source": [
        "Expected Output:\n",
        "\n",
        "0\n",
        "\n",
        "16\n",
        "\n",
        "22\n",
        "\n",
        "30\n",
        "\n",
        "20\n"
      ]
    }
  ]
}