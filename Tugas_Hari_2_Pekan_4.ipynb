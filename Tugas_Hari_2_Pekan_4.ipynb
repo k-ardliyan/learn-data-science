{
  "nbformat": 4,
  "nbformat_minor": 0,
  "metadata": {
    "kernelspec": {
      "display_name": "Python 3",
      "language": "python",
      "name": "python3"
    },
    "language_info": {
      "codemirror_mode": {
        "name": "ipython",
        "version": 3
      },
      "file_extension": ".py",
      "mimetype": "text/x-python",
      "name": "python",
      "nbconvert_exporter": "python",
      "pygments_lexer": "ipython3",
      "version": "3.7.6"
    },
    "colab": {
      "name": "Tugas Hari 2 Pekan 4.ipynb",
      "provenance": [],
      "collapsed_sections": [],
      "include_colab_link": true
    }
  },
  "cells": [
    {
      "cell_type": "markdown",
      "metadata": {
        "id": "view-in-github",
        "colab_type": "text"
      },
      "source": [
        "<a href=\"https://colab.research.google.com/github/k-ardliyan/learn-data-science/blob/master/Tugas_Hari_2_Pekan_4.ipynb\" target=\"_parent\"><img src=\"https://colab.research.google.com/assets/colab-badge.svg\" alt=\"Open In Colab\"/></a>"
      ]
    },
    {
      "cell_type": "markdown",
      "metadata": {
        "id": "5K6xQ_mFbt7B",
        "colab_type": "text"
      },
      "source": [
        "<h1>Soal 1: Pemahaman Algoritma</h1>\n",
        "\n",
        "Jawab Pertanyaan di bawah ini dengan penyampaian bahasa sendiri!\n",
        "\n",
        "1. Bagaimana proses algoritma KNN?\n",
        "2. Jelaskan minimal 2 kekurangan dari algoritma KNN?"
      ]
    },
    {
      "cell_type": "markdown",
      "metadata": {
        "id": "00A5KWAygagM",
        "colab_type": "text"
      },
      "source": [
        "Jawab:\n",
        "\n",
        "1. Algoritma KNN mengukur jarak suatu data baru terhadap setiap poin data lama menggunakan rumus euclidean distance, kemudian menghitung sejumlah poin terdekat yang didefinisikan dengan K, dan terakhir melakukan 'voting' untuk menentukan data baru tersebut lebih condong ke mana dari sejumlah data terdekat tersebut.\n",
        "2. Kekurangan dari algoritma KNN adalah algoritma ini sangat sensitif terhadap pencilan atau akurasinya bisa menjadi sangat buruk, dan akan kebingungan jika nilai K yang ditentukan adalah bilangan genap dan label-label terdekat mempunyai jumlah yang sama"
      ]
    },
    {
      "cell_type": "markdown",
      "metadata": {
        "id": "UDvanK5pgcnF",
        "colab_type": "text"
      },
      "source": [
        "---"
      ]
    },
    {
      "cell_type": "markdown",
      "metadata": {
        "id": "VsHxDJ4jbt7P",
        "colab_type": "text"
      },
      "source": [
        "<h1>Soal 2: Pengaplikasian Algoritma KNN</h1>\n",
        "\n",
        "- Buatlah model KNN\n",
        "- Training model tersebut kepada data X_train dengan hyperparameter kombinasi antara  2<= k <=20 dan weights bernilai 'uniform', dan 'distance'  \n",
        "- Lakukan prediksi terhadap data X_test untuk model di setiap kombinasi k dan weights\n",
        "- Score dengan accuracy dari hasil prediksi terhadap data X_test untuk setiap kombinasi hyperparameter, masukan score tersebut ke dalam objek list dengan di groupkan berdasarkan jenis weights, sehingga di akhir kita punya variable misalkan list_uniform_score, dan list_distance_score\n",
        "- Plot kedua list tersebut dengan lineplot kedalam satu axis dan bandingkan hasilnya"
      ]
    },
    {
      "cell_type": "code",
      "metadata": {
        "id": "Gng40Wu8bt7c",
        "colab_type": "code",
        "colab": {}
      },
      "source": [
        "from sklearn.datasets import load_wine\n",
        "import pandas as pd\n",
        "import numpy as np\n",
        "\n",
        "wine = load_wine()\n",
        "df = pd.DataFrame(np.c_[wine['data'], wine['target']], columns= wine['feature_names'] + ['class'])\n",
        "\n",
        "#Preprocessing data\n",
        "X = df.drop('class', axis=1)\n",
        "y = df['class']\n",
        "\n",
        "from sklearn.model_selection import train_test_split\n",
        "\n",
        "X_train, X_test, y_train, y_test = train_test_split(X, y, test_size=0.2, random_state=21)"
      ],
      "execution_count": 1,
      "outputs": []
    },
    {
      "cell_type": "code",
      "metadata": {
        "id": "WArywgrccbBT",
        "colab_type": "code",
        "colab": {}
      },
      "source": [
        "# Import KNeighbor Classifier\n",
        "from sklearn.neighbors import KNeighborsClassifier"
      ],
      "execution_count": 2,
      "outputs": []
    },
    {
      "cell_type": "code",
      "metadata": {
        "id": "t67OsEMMceJf",
        "colab_type": "code",
        "colab": {}
      },
      "source": [
        "# Membuat fungsi untuk train model\n",
        "def train_model(n, w):\n",
        "  knn = KNeighborsClassifier(n_neighbors=n, weights=w)\n",
        "  knn.fit(X_train, y_train)\n",
        "  knn.predict(X_test)\n",
        "  return knn.score(X_test, y_test)"
      ],
      "execution_count": 3,
      "outputs": []
    },
    {
      "cell_type": "code",
      "metadata": {
        "id": "eN0S4hRdchP6",
        "colab_type": "code",
        "colab": {}
      },
      "source": [
        "# Membuat list kosong untuk jenis weights uniform dan distance\n",
        "uniform_list = []\n",
        "distance_list = []"
      ],
      "execution_count": 4,
      "outputs": []
    },
    {
      "cell_type": "code",
      "metadata": {
        "id": "EIX8GkIhcjIO",
        "colab_type": "code",
        "colab": {}
      },
      "source": [
        "# Melakukan looping untuk fungsi train_model\n",
        "for i in range (2, 21):\n",
        "  uniform_list.append(train_model(i, 'uniform'))\n",
        "  distance_list.append(train_model(i, 'distance'))"
      ],
      "execution_count": 5,
      "outputs": []
    },
    {
      "cell_type": "code",
      "metadata": {
        "id": "rekF8HFrclP2",
        "colab_type": "code",
        "colab": {
          "base_uri": "https://localhost:8080/",
          "height": 697
        },
        "outputId": "e6c07e02-84a6-4694-9aae-256e4082577e"
      },
      "source": [
        "print('Uniform Scores :')\n",
        "display(uniform_list)\n",
        "print('Distance Scores :')\n",
        "display(distance_list)"
      ],
      "execution_count": 6,
      "outputs": [
        {
          "output_type": "stream",
          "text": [
            "Uniform Scores :\n"
          ],
          "name": "stdout"
        },
        {
          "output_type": "display_data",
          "data": {
            "text/plain": [
              "[0.6944444444444444,\n",
              " 0.8055555555555556,\n",
              " 0.7222222222222222,\n",
              " 0.6666666666666666,\n",
              " 0.6388888888888888,\n",
              " 0.75,\n",
              " 0.6388888888888888,\n",
              " 0.6944444444444444,\n",
              " 0.6944444444444444,\n",
              " 0.7222222222222222,\n",
              " 0.6388888888888888,\n",
              " 0.6666666666666666,\n",
              " 0.6388888888888888,\n",
              " 0.6666666666666666,\n",
              " 0.6111111111111112,\n",
              " 0.6666666666666666,\n",
              " 0.6388888888888888,\n",
              " 0.6666666666666666,\n",
              " 0.6111111111111112]"
            ]
          },
          "metadata": {
            "tags": []
          }
        },
        {
          "output_type": "stream",
          "text": [
            "Distance Scores :\n"
          ],
          "name": "stdout"
        },
        {
          "output_type": "display_data",
          "data": {
            "text/plain": [
              "[0.75,\n",
              " 0.8333333333333334,\n",
              " 0.7777777777777778,\n",
              " 0.75,\n",
              " 0.7222222222222222,\n",
              " 0.75,\n",
              " 0.6944444444444444,\n",
              " 0.7222222222222222,\n",
              " 0.6944444444444444,\n",
              " 0.6944444444444444,\n",
              " 0.6944444444444444,\n",
              " 0.6944444444444444,\n",
              " 0.6944444444444444,\n",
              " 0.6666666666666666,\n",
              " 0.6666666666666666,\n",
              " 0.6666666666666666,\n",
              " 0.6666666666666666,\n",
              " 0.6666666666666666,\n",
              " 0.6666666666666666]"
            ]
          },
          "metadata": {
            "tags": []
          }
        }
      ]
    },
    {
      "cell_type": "code",
      "metadata": {
        "id": "TCqPAnzvcrHU",
        "colab_type": "code",
        "colab": {
          "base_uri": "https://localhost:8080/",
          "height": 513
        },
        "outputId": "09f20d56-c175-45bd-c285-8f71dc680e02"
      },
      "source": [
        "# Membuat plot untuk kedua jenis weights\n",
        "import matplotlib.pyplot as plt\n",
        "fig, ax = plt.subplots(figsize=(13, 8))\n",
        "\n",
        "k = range(2, 21)\n",
        "ax.plot(k, uniform_list, marker='o', label='Uniform Scores')\n",
        "ax.plot(k, distance_list, marker='X', label='Distance Scores')\n",
        "ax.set_xlabel('K-Value')\n",
        "ax.set_ylabel('Scores')\n",
        "ax.set_title('Accuracy: Uniform scores vs Distance scores')\n",
        "plt.legend()\n",
        "plt.show()"
      ],
      "execution_count": 7,
      "outputs": [
        {
          "output_type": "display_data",
          "data": {
            "image/png": "[encoded data removed]",
            "text/plain": [
              "<Figure size 936x576 with 1 Axes>"
            ]
          },
          "metadata": {
            "tags": [],
            "needs_background": "light"
          }
        }
      ]
    },
    {
      "cell_type": "markdown",
      "metadata": {
        "id": "9IRv63G0bt8T",
        "colab_type": "text"
      },
      "source": [
        "Contoh hasil yang di harapkan :\n",
        "\n",
        "\n",
        "```\n",
        "Uniform Scores:\n",
        "[0.6944444444444444,\n",
        " 0.8055555555555556,\n",
        " 0.7222222222222222,\n",
        " 0.6666666666666666,\n",
        " 0.6388888888888888,\n",
        " 0.75,\n",
        " 0.6388888888888888,\n",
        " 0.6944444444444444,\n",
        " 0.6944444444444444,\n",
        " 0.7222222222222222,\n",
        " 0.6388888888888888,\n",
        " 0.6666666666666666,\n",
        " 0.6388888888888888,\n",
        " 0.6666666666666666,\n",
        " 0.6111111111111112,\n",
        " 0.6666666666666666,\n",
        " 0.6388888888888888,\n",
        " 0.6666666666666666,\n",
        " 0.6111111111111112]\n",
        "\n",
        "Distance scores:\n",
        "[0.75,\n",
        " 0.8333333333333334,\n",
        " 0.7777777777777778,\n",
        " 0.75,\n",
        " 0.7222222222222222,\n",
        " 0.75,\n",
        " 0.6944444444444444,\n",
        " 0.7222222222222222,\n",
        " 0.6944444444444444,\n",
        " 0.6944444444444444,\n",
        " 0.6944444444444444,\n",
        " 0.6944444444444444,\n",
        " 0.6944444444444444,\n",
        " 0.6666666666666666,\n",
        " 0.6666666666666666,\n",
        " 0.6666666666666666,\n",
        " 0.6666666666666666,\n",
        " 0.6666666666666666,\n",
        " 0.6666666666666666]\n",
        "```\n",
        "\n",
        "\n",
        "\n",
        " \n",
        "\n",
        "\n",
        "![alt text](https://drive.google.com/uc?id=1pppy_BWQsg5tdgOBEU1GgiHSklLLoimt)"
      ]
    },
    {
      "cell_type": "markdown",
      "metadata": {
        "id": "UnInuMmFgfQp",
        "colab_type": "text"
      },
      "source": [
        "---"
      ]
    },
    {
      "cell_type": "markdown",
      "metadata": {
        "id": "1xGA6Usmbt8b",
        "colab_type": "text"
      },
      "source": [
        "<h1>Soal 3: Pengaplikasian Model Linear Regression</h1>\n",
        "\n",
        "Applikasikan model linear regresi kedalam data berikut. Kemudian tunjukan parameter koefesien dan intercept dari model tersebut."
      ]
    },
    {
      "cell_type": "code",
      "metadata": {
        "id": "IEsbrAiybt8i",
        "colab_type": "code",
        "colab": {}
      },
      "source": [
        "import numpy as np\n",
        "\n",
        "rng = np.random.RandomState(1)\n",
        "\n",
        "X = 10 * rng.rand(50, 4)\n",
        "y = np.array([  0.9826564 ,  49.40390035,  85.76013175,  29.17254633,\n",
        "        11.270054  ,  61.53852735, -19.52503854,  10.10230867,\n",
        "        82.03058206,  45.72660678,  82.09252575,  90.78872391,\n",
        "        67.94178098,  39.97492762, 124.78866966,  85.24615819,\n",
        "        85.68491086,  80.39481211,  14.54591581, 137.19722354,\n",
        "        85.04063428,  94.76681927,  84.64289989,  38.76421156,\n",
        "        47.33953927,  94.50853335,  77.3276567 ,  -9.77846805,\n",
        "        61.13434468,  42.12124052,  26.65634335, 120.41593333,\n",
        "       138.08132504, 103.33745675, 145.64447692,  19.54777986,\n",
        "        87.40631024, 111.47327389,  95.94874761, 146.34817502,\n",
        "       118.10333528,  56.85956484, 108.57660235, 114.30790247,\n",
        "        40.27107041,  73.83871008,  45.52217182,  -7.57752547,\n",
        "       147.81772162, 139.40285349])"
      ],
      "execution_count": 8,
      "outputs": []
    },
    {
      "cell_type": "code",
      "metadata": {
        "id": "xEvhP3W5c1Qg",
        "colab_type": "code",
        "colab": {}
      },
      "source": [
        "# Import LinearRegression\n",
        "from sklearn.linear_model import LinearRegression"
      ],
      "execution_count": 9,
      "outputs": []
    },
    {
      "cell_type": "code",
      "metadata": {
        "id": "ICrGEu-Ic3VB",
        "colab_type": "code",
        "colab": {
          "base_uri": "https://localhost:8080/",
          "height": 34
        },
        "outputId": "141fc339-58bb-488f-ec96-c2ca6606040f"
      },
      "source": [
        "# Membuat dan melatih model linear regression \n",
        "model_reg = LinearRegression()\n",
        "model_reg.fit(X, y)"
      ],
      "execution_count": 10,
      "outputs": [
        {
          "output_type": "execute_result",
          "data": {
            "text/plain": [
              "LinearRegression(copy_X=True, fit_intercept=True, n_jobs=None, normalize=False)"
            ]
          },
          "metadata": {
            "tags": []
          },
          "execution_count": 10
        }
      ]
    },
    {
      "cell_type": "code",
      "metadata": {
        "id": "cRPhIKobc5fL",
        "colab_type": "code",
        "colab": {
          "base_uri": "https://localhost:8080/",
          "height": 51
        },
        "outputId": "c03c019f-8386-4e8f-c175-24d785baed3f"
      },
      "source": [
        "# Menampilkan parameter koefisien dan intercept\n",
        "print('Parameter koefisien', model_reg.coef_)\n",
        "print('Parameter intercept', model_reg.intercept_)"
      ],
      "execution_count": 11,
      "outputs": [
        {
          "output_type": "stream",
          "text": [
            "Parameter koefisien [ 1.5 -5.   9.  10. ]\n",
            "Parameter intercept 0.5000000016247981\n"
          ],
          "name": "stdout"
        }
      ]
    }
  ]
}