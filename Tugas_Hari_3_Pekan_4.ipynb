{
  "nbformat": 4,
  "nbformat_minor": 0,
  "metadata": {
    "kernelspec": {
      "display_name": "Python 3",
      "language": "python",
      "name": "python3"
    },
    "language_info": {
      "codemirror_mode": {
        "name": "ipython",
        "version": 3
      },
      "file_extension": ".py",
      "mimetype": "text/x-python",
      "name": "python",
      "nbconvert_exporter": "python",
      "pygments_lexer": "ipython3",
      "version": "3.7.6"
    },
    "colab": {
      "name": "Tugas Hari 3 Pekan 4.ipynb",
      "provenance": [],
      "collapsed_sections": [],
      "include_colab_link": true
    }
  },
  "cells": [
    {
      "cell_type": "markdown",
      "metadata": {
        "id": "view-in-github",
        "colab_type": "text"
      },
      "source": [
        "<a href=\"https://colab.research.google.com/github/k-ardliyan/learn-data-science/blob/master/Tugas_Hari_3_Pekan_4.ipynb\" target=\"_parent\"><img src=\"https://colab.research.google.com/assets/colab-badge.svg\" alt=\"Open In Colab\"/></a>"
      ]
    },
    {
      "cell_type": "markdown",
      "metadata": {
        "id": "PrQVcF-ldGWQ",
        "colab_type": "text"
      },
      "source": [
        "<h1> Soal 1: Pemahaman Tentang Model Evaluasi</h1>\n",
        "\n",
        "Jawab pertanyaan di bawah ini dengan bahasa masing-masing?\n",
        "\n",
        "1. Apa perbedaan antara data latih, data validasi, dan data test?\n",
        "2. Bagaimana cara kita menilai performa suatu model?\n",
        "3. Apa itu Confusion Matrix? Jelaskan secara lengkap!\n",
        "4. Apa itu Classification Report dari sklearn?"
      ]
    },
    {
      "cell_type": "markdown",
      "metadata": {
        "id": "sr6D5UIhgpwO",
        "colab_type": "text"
      },
      "source": [
        "Jawab:\n",
        "\n",
        "1. Perbedaan antara data latih, data validasi, dan data test antara lain:\n",
        "\n",
        "  * Data latih adalah data yang digunakan oleh model untuk belajar mengenai suatu dataset\n",
        "  * Data validasi adalah sebagian dari data test yang digunakan untuk mencari parameter yang paling baik untuk sebuah algoritma klasifikasi serta mencegah overfitting atau underfitting.\n",
        "  * Data test adalah data yang digunakan sebagai percobaan jika model benar-benar diterapkan di dunia nyata dimana data ini sebelumnya tidak boleh pernah dikenali oleh model.\n",
        "2. Menilai performa suatu model dapat dengan berbagai cara, beberapa dengan metrik akurasi, confusion matrix, ataupun dengan melihat classification report. Untuk model jenis regresi juga mempunyai cara tersendiri untuk menilai performanya, misalnya dengan RMSE atau MAE.\n",
        "\n",
        "3. Confusion matrix adalah suatu metode yang biasanya digunakan untuk melakukan perhitungan akurasi pada suatu model klasifikasi dan cocok digunakan bahkan pada data yang imbalanced sekalipun. Pada pengukuran kinerja menggunakan confusion matrix, terdapat 4 (empat) istilah sebagai representasi hasil proses klasifikasi. Keempat istilah tersebut adalah True Positive (TP), True Negative (TN), False Positive (FP) dan False Negative (FN).\n",
        "\n",
        "4. Classification report adalah suatu metode yang digunakan untuk mengukur kualitas prediksi dari algoritma klasifikasi dengan komponen didalamnya terdiri atas precision, recall, f1-Score, dan support. Classification report menggunakan angka dari confusion matrix sebagai komponen untuk perhitungannya"
      ]
    },
    {
      "cell_type": "markdown",
      "metadata": {
        "id": "uY-s7-KDgrkV",
        "colab_type": "text"
      },
      "source": [
        "---"
      ]
    },
    {
      "cell_type": "markdown",
      "metadata": {
        "id": "Fv2TVsgAdGWY",
        "colab_type": "text"
      },
      "source": [
        "<h1>Soal 2: Aplikasi Model Evaluasi</h1>\n",
        "\n",
        "Kali ini kita akan menggunakan data untuk memprediksi kelangsungan hidup pasien yang telah mengalami operasi payudara. Dengan informasi yang dimiliki terkait pasien, kita akan membuat model untuk memprediksi apakah pasien akan bertahan hidup dalam waktu lebih dari 5 tahun atau tidak.\n",
        "\n",
        "Lebih Lengkapnya kalian bisa membaca informasi tentang dataset di link berikut: https://raw.githubusercontent.com/jbrownlee/Datasets/master/haberman.names\n",
        "\n",
        "Buat model Klasifikasi (Model/Algoritma Bebas) untuk memprediksi status pasien dengan ketentuan sebagai berikut:\n",
        "\n",
        "1. Bagi kedua data ini menjadi data training dan data test dengan test_size=0.25.\n",
        "3. Pelajar tentang metrics roc_auc_score kemudian buatlah model dan evaluasi dengan menggunakan teknik cross-validation dengan scoring 'roc_auc'. Baca https://scikit-learn.org/stable/modules/generated/sklearn.model_selection.cross_val_score.html untuk menggunakan metric roc_auc saat cross-validation.\n",
        "3. Berapa score rata2 dari model dengan teknik cross-validation tersebut?\n",
        "4. Prediksi data test dengan model yang telah kalian buat!\n",
        "5. Bagaimana hasil confusion matrix dari hasil prediksi tersebut?\n",
        "6. Bagaimana classification report dari hasil prediksi tersebut?\n",
        "5. Seberapa baik model anda dalam memprediksi seorang pasien mempunyai status positive?\n",
        "6. Seberapa baik model anda dalam memprediksi seorang pasien mempunyai status negatif?"
      ]
    },
    {
      "cell_type": "code",
      "metadata": {
        "id": "g4UqaWyPdGWj",
        "colab_type": "code",
        "colab": {}
      },
      "source": [
        "import pandas as pd\n",
        "\n",
        "url = 'https://raw.githubusercontent.com/jbrownlee/Datasets/master/haberman.csv'\n",
        "list_cols = ['Age', \"Patient's Years\", \"N_positive_ax\", \"survival_status\"]\n",
        "df = pd.read_csv(url, names=list_cols)"
      ],
      "execution_count": 1,
      "outputs": []
    },
    {
      "cell_type": "code",
      "metadata": {
        "id": "YrbPNGtHdGXV",
        "colab_type": "code",
        "colab": {
          "base_uri": "https://localhost:8080/",
          "height": 204
        },
        "outputId": "11bd1b31-95b0-4ec3-8965-2b31e4cd8ce9"
      },
      "source": [
        "df.head()"
      ],
      "execution_count": 2,
      "outputs": [
        {
          "output_type": "execute_result",
          "data": {
            "text/html": [
              "<div>\n",
              "<style scoped>\n",
              "    .dataframe tbody tr th:only-of-type {\n",
              "        vertical-align: middle;\n",
              "    }\n",
              "\n",
              "    .dataframe tbody tr th {\n",
              "        vertical-align: top;\n",
              "    }\n",
              "\n",
              "    .dataframe thead th {\n",
              "        text-align: right;\n",
              "    }\n",
              "</style>\n",
              "<table border=\"1\" class=\"dataframe\">\n",
              "  <thead>\n",
              "    <tr style=\"text-align: right;\">\n",
              "      <th></th>\n",
              "      <th>Age</th>\n",
              "      <th>Patient's Years</th>\n",
              "      <th>N_positive_ax</th>\n",
              "      <th>survival_status</th>\n",
              "    </tr>\n",
              "  </thead>\n",
              "  <tbody>\n",
              "    <tr>\n",
              "      <th>0</th>\n",
              "      <td>30</td>\n",
              "      <td>64</td>\n",
              "      <td>1</td>\n",
              "      <td>1</td>\n",
              "    </tr>\n",
              "    <tr>\n",
              "      <th>1</th>\n",
              "      <td>30</td>\n",
              "      <td>62</td>\n",
              "      <td>3</td>\n",
              "      <td>1</td>\n",
              "    </tr>\n",
              "    <tr>\n",
              "      <th>2</th>\n",
              "      <td>30</td>\n",
              "      <td>65</td>\n",
              "      <td>0</td>\n",
              "      <td>1</td>\n",
              "    </tr>\n",
              "    <tr>\n",
              "      <th>3</th>\n",
              "      <td>31</td>\n",
              "      <td>59</td>\n",
              "      <td>2</td>\n",
              "      <td>1</td>\n",
              "    </tr>\n",
              "    <tr>\n",
              "      <th>4</th>\n",
              "      <td>31</td>\n",
              "      <td>65</td>\n",
              "      <td>4</td>\n",
              "      <td>1</td>\n",
              "    </tr>\n",
              "  </tbody>\n",
              "</table>\n",
              "</div>"
            ],
            "text/plain": [
              "   Age  Patient's Years  N_positive_ax  survival_status\n",
              "0   30               64              1                1\n",
              "1   30               62              3                1\n",
              "2   30               65              0                1\n",
              "3   31               59              2                1\n",
              "4   31               65              4                1"
            ]
          },
          "metadata": {
            "tags": []
          },
          "execution_count": 2
        }
      ]
    },
    {
      "cell_type": "code",
      "metadata": {
        "id": "-dxYNPg7dGX4",
        "colab_type": "code",
        "colab": {
          "base_uri": "https://localhost:8080/",
          "height": 68
        },
        "outputId": "a137ae16-0e49-4b93-f487-3709d8d31488"
      },
      "source": [
        "df['survival_status'].value_counts()"
      ],
      "execution_count": 3,
      "outputs": [
        {
          "output_type": "execute_result",
          "data": {
            "text/plain": [
              "1    225\n",
              "2     81\n",
              "Name: survival_status, dtype: int64"
            ]
          },
          "metadata": {
            "tags": []
          },
          "execution_count": 3
        }
      ]
    },
    {
      "cell_type": "code",
      "metadata": {
        "id": "8W2amvZgdGYX",
        "colab_type": "code",
        "colab": {}
      },
      "source": [
        "# Code here\n",
        "# Import function yang dibutuhkan\n",
        "from sklearn.model_selection import train_test_split, cross_val_score\n",
        "from sklearn.svm import SVC\n",
        "from sklearn.metrics import confusion_matrix, classification_report"
      ],
      "execution_count": 4,
      "outputs": []
    },
    {
      "cell_type": "code",
      "metadata": {
        "id": "vrglkWT9nhx3",
        "colab_type": "code",
        "colab": {}
      },
      "source": [
        "# Memisahkan atribut dan target\n",
        "X = df.drop('survival_status', axis=1)\n",
        "y = df['survival_status']\n",
        "\n",
        "# Membagi data menjadi train set dan test set\n",
        "X_train, X_test, y_train, y_test = train_test_split(X, y, test_size=0.25, random_state=42)"
      ],
      "execution_count": 5,
      "outputs": []
    },
    {
      "cell_type": "code",
      "metadata": {
        "id": "k1wmojADnkNz",
        "colab_type": "code",
        "colab": {}
      },
      "source": [
        "# Membuat model dengan algoritma SVC dan melakukan cross validation\n",
        "model = SVC(gamma=0.006)\n",
        "cv_result = cross_val_score(model, X_train, y_train, cv=10, scoring='roc_auc')"
      ],
      "execution_count": 6,
      "outputs": []
    },
    {
      "cell_type": "code",
      "metadata": {
        "id": "6OWM6ixEnmYP",
        "colab_type": "code",
        "colab": {
          "base_uri": "https://localhost:8080/",
          "height": 34
        },
        "outputId": "bdc723af-6602-4c6d-d101-bb041c3c7ec0"
      },
      "source": [
        "# Melihat score rata-rata dari cross validation\n",
        "cv_result.mean()"
      ],
      "execution_count": 7,
      "outputs": [
        {
          "output_type": "execute_result",
          "data": {
            "text/plain": [
              "0.7313725490196078"
            ]
          },
          "metadata": {
            "tags": []
          },
          "execution_count": 7
        }
      ]
    },
    {
      "cell_type": "code",
      "metadata": {
        "id": "CjDKT0Onnqgx",
        "colab_type": "code",
        "colab": {}
      },
      "source": [
        "# Mlatih dan menguji model yang telah dibuat\n",
        "model.fit(X_train, y_train)\n",
        "y_pred = model.predict(X_test)"
      ],
      "execution_count": 8,
      "outputs": []
    },
    {
      "cell_type": "code",
      "metadata": {
        "id": "xZikmhaFnsh2",
        "colab_type": "code",
        "colab": {
          "base_uri": "https://localhost:8080/",
          "height": 85
        },
        "outputId": "193396fa-c48f-4e9f-fcbf-10849ab25815"
      },
      "source": [
        "y_pred"
      ],
      "execution_count": 9,
      "outputs": [
        {
          "output_type": "execute_result",
          "data": {
            "text/plain": [
              "array([1, 1, 1, 1, 1, 2, 1, 1, 2, 1, 1, 1, 1, 2, 1, 1, 1, 1, 2, 1, 1, 1,\n",
              "       1, 1, 1, 1, 1, 1, 1, 1, 1, 2, 1, 1, 1, 1, 1, 1, 1, 1, 2, 1, 2, 1,\n",
              "       1, 1, 1, 1, 1, 1, 2, 1, 1, 1, 1, 2, 1, 1, 1, 1, 1, 1, 1, 1, 2, 1,\n",
              "       2, 1, 1, 1, 1, 1, 2, 1, 1, 1, 1])"
            ]
          },
          "metadata": {
            "tags": []
          },
          "execution_count": 9
        }
      ]
    },
    {
      "cell_type": "code",
      "metadata": {
        "id": "px30G-kOnvZR",
        "colab_type": "code",
        "colab": {
          "base_uri": "https://localhost:8080/",
          "height": 51
        },
        "outputId": "d1b21b9c-8437-4a6e-d4d3-17ab2b719f4d"
      },
      "source": [
        "# Melihat confusion matrix hasil prediksi\n",
        "confusion_matrix(y_test, y_pred, labels=[2,1])"
      ],
      "execution_count": 10,
      "outputs": [
        {
          "output_type": "execute_result",
          "data": {
            "text/plain": [
              "array([[ 6, 16],\n",
              "       [ 6, 49]])"
            ]
          },
          "metadata": {
            "tags": []
          },
          "execution_count": 10
        }
      ]
    },
    {
      "cell_type": "code",
      "metadata": {
        "id": "nAVspAqUnvPw",
        "colab_type": "code",
        "colab": {
          "base_uri": "https://localhost:8080/",
          "height": 170
        },
        "outputId": "995ad100-723e-421a-86b2-9b59e174f86b"
      },
      "source": [
        "# Melihat classification report\n",
        "print(classification_report(y_test, y_pred))"
      ],
      "execution_count": 11,
      "outputs": [
        {
          "output_type": "stream",
          "text": [
            "              precision    recall  f1-score   support\n",
            "\n",
            "           1       0.75      0.89      0.82        55\n",
            "           2       0.50      0.27      0.35        22\n",
            "\n",
            "    accuracy                           0.71        77\n",
            "   macro avg       0.63      0.58      0.58        77\n",
            "weighted avg       0.68      0.71      0.68        77\n",
            "\n"
          ],
          "name": "stdout"
        }
      ]
    },
    {
      "cell_type": "markdown",
      "metadata": {
        "id": "UZTbwYO5n3H3",
        "colab_type": "text"
      },
      "source": [
        "Jawaban:\n",
        "\n",
        "\n",
        "Jawaban :\n",
        "\n",
        "1. Data berhasil terbagi dengan test size 0.25.\n",
        "2. Model dan evaluation dengan scoring roc-auc berhasil dilakukan (algoritma yang dipakai adalah SVC).\n",
        "3. Rata-rata score dari model dengan cross validation adalah sebesar 0,731\n",
        "4. Prediksi dengan data test dilakukan.\n",
        "5. Hasil confusion matrix memprediksi 6 data TP, 16 data FN, 6 data FP dan 49 data TN.\n",
        "6. Classification report menunjukkan f1-score yang bagus untuk data berlabel 1 yaitu bernilai 0.82 dari 1, namun masih kurang baik untuk data berlabel 2 .karena hanya memiliki f1-score sebesar 0.35 dari 1.\n",
        "7. Model perlu diperbaiki karena tidak dapat memprediksi pasien dengan status positif (label 2) dan hanya memiliki f1-score sebesar 0.35 dari 1.\n",
        "8. Model dapat memprediksi pasien dengan status negatif (label 1) dengan baik dengan score model 0.82 dari 1."
      ]
    },
    {
      "cell_type": "markdown",
      "metadata": {
        "id": "I6v_dgoN-7wL",
        "colab_type": "text"
      },
      "source": [
        "---"
      ]
    },
    {
      "cell_type": "markdown",
      "metadata": {
        "id": "teekoyIw--g2",
        "colab_type": "text"
      },
      "source": [
        "<h1> Soal 3: Pemahaman Tentang Model Selection</h1>\n",
        "\n",
        "Jelaskan dengan bahasa sendiri!\n",
        "\n",
        "1. Apa itu Bias dan Variance?\n",
        "2. Apa itu Overfitting dan Underfitting?\n",
        "3. Apa yang bisa kita lakukan untuk mengatur kompleksitas dari model?\n",
        "4. Bagaimana model yang baik?\n",
        "5. Kapan kita menggunakan GridSearchcv dan kapan menggunakan RandomizedSearchCV?"
      ]
    },
    {
      "cell_type": "markdown",
      "metadata": {
        "id": "4a1l4RNf_FcU",
        "colab_type": "text"
      },
      "source": [
        "Jawab: \n",
        "1. Bias adalah perbedaan antara rata-rata hasil prediksi dari model yang dikembangkan dengan data nilai yang sebenarnya. Bias yang tinggi diakibatkan oleh model yang terlalu sederhana, sehingga tidak dapat mempelajari data training dengan baik. Variance adalah variabel dari model untuk data tertentu yang memberikan informasi tentang perserbaran data yang digunakan. Model yang memiliki variance tinggi sangat memperhatikan data train yang kemungkinan besar akan menyebabkan overfitting.\n",
        "\n",
        "2. Underfitting adalah keadaan dimana model tidak dapat mempelajari data latih dengan baik karena terlalu sederhana, dan memiliki ciri dimana train score dan juga validation score sama-sama bernilai rendah. Overfitting adalah suatu keadaan dapat mempelajari data latih dengan sangat baik bahkan kemungkinan juga mempelajari noise pada data dan memiliki train score yang sangat baik, tetapi ketika berhadapan dengan data validasi, model tidak dapat bekerja dengan baik dan memiliki validation score yang rendah.\n",
        "\n",
        "3. Kompleksitas dari suatu model dapat diatur dengan cara mengatur nilai hyperparameter dari model tersebut pada nilai terbaiknya. Cara mencari nilai hyperparameter terbaik bisa menggunakan GridSearchCV atau dengan RandomizedSearchCV.\n",
        "\n",
        "4. Model yang baik adalah model yang mempunyai nilai bias dan variance yang tepat sehingga tidak underfit ataupun overfit. Model yang baik juga dapat bekerja pada data yang balanced ataupun data yang imbalanced.\n",
        "\n",
        "5. GridSearchCV dan RandomizedSearchCV sama-sama digunakan untuk mencari nilai hyperparameter terbaik dari suatu model. GridSearchCV lebih cocok digunakan jika resource komputasi yang digunakan memadai, sehingga tidak menyebabkan proses pencarian parameter yang terlalu lama. Sedangkan RandomizedSearchCV digunakan jika resource komputasi belum terlalu memadai atau menginginkan proses pencarian yang lebih cepat. Karena pencarian dilakukan secara random, hasil pencarian dari RandomizedSearchCV belum tentu sama baiknya dengan GridSearchCV"
      ]
    },
    {
      "cell_type": "markdown",
      "metadata": {
        "id": "Svj_cgxF_IZv",
        "colab_type": "text"
      },
      "source": [
        "---"
      ]
    },
    {
      "cell_type": "markdown",
      "metadata": {
        "id": "Hkh-PeRL_LZp",
        "colab_type": "text"
      },
      "source": [
        "<h1> Soal 4: Aplikasi Model Selection</h1>\n",
        "\n",
        "1. Bagi kedua data berikut ini menjadi data training dan data test dengan test_size=0.25.\n",
        "2. Gunakan algoritma KNN sebagai model classifier.\n",
        "3. Gunakan fungsi GridSearchCV untuk hyperparameter tuning dan model selection.\n",
        "4. jumlah fold bebas!, gunakan scoring 'roc_auc'\n",
        "5. Definisikan kombinasi hyperparameter untuk model selection dengan GridSearchCV. kombinasi Hyperparameter bebas, baca lagi dokumentasi KNN di link berikut https://scikit-learn.org/stable/modules/generated/sklearn.neighbors.KNeighborsClassifier.html untuk memahami lagi jenis2 hyperparameter di algorithma KNN.\n",
        "6. Latih model terhadap data training.\n",
        "7. Apa hyperparameter terbaik untuk kombinasi hyperparameter kalian?\n",
        "8. Berapa score validasi terbaik dari model tersebut?\n",
        "9. Prediksi probabilitasi output dari model yang telah di buat terhadap data test. note : gunakan method .predict_proba() untuk menghasilkan output probabilitas\n",
        "10. Perhatikan bahwa hasil prediksi ada 2, dimana masing2 adalah nilai probabilitas untuk setiap class label. Ambil nilai probabilitas pasien phositive meninggal dalam waktu kurang dari 5 tahun. note : gunakan bantuan attirubte .classes_ untuk mengetahui urutan label dari hasil prediksi probabilitas.\n",
        "11. Berapa nilai score roc_auc untuk data test?\n",
        "12. Apakah model anda termasuk baik, overtting, atau underfitting?\n",
        "13. Ulangi tahap di atas namun kali ini menggunakan algoritma DecisionTreeClassifier dan kalian bisa menggunakan RandomizedSearchCV apabila process training lama. pelajari algoritma DecisionTreeClassifier di linkberikut: https://scikit-learn.org/stable/modules/generated/sklearn.tree.DecisionTreeClassifier.html?highlight=decisiontreeclassifier#sklearn.tree.DecisionTreeClassifier\n",
        "14. Bandingkan scorenya dengan Algoritma KNN, mana yang lebih baik?\n",
        "\n",
        "Note : Data Science adalah experiment, sangat di dimungkinkan memerlukan beberapa kali percobaan untuk mendapatkan hasil yang terbaik! Happy Coding :)"
      ]
    },
    {
      "cell_type": "code",
      "metadata": {
        "id": "l_zK8Mqb-9Z6",
        "colab_type": "code",
        "colab": {}
      },
      "source": [
        "import pandas as pd\n",
        "import numpy as np\n",
        "\n",
        "url = 'https://raw.githubusercontent.com/jbrownlee/Datasets/master/haberman.csv'\n",
        "list_cols = ['Age', \"Patient's Years\", \"N_positive_ax\", \"survival_status\"]\n",
        "df = pd.read_csv(url, names=list_cols)"
      ],
      "execution_count": 12,
      "outputs": []
    },
    {
      "cell_type": "code",
      "metadata": {
        "id": "qb-AD43R_V_d",
        "colab_type": "code",
        "colab": {
          "base_uri": "https://localhost:8080/",
          "height": 204
        },
        "outputId": "e2b27d7b-fcb3-4ec4-a4f4-e3a2f716e04e"
      },
      "source": [
        "df.head()"
      ],
      "execution_count": 13,
      "outputs": [
        {
          "output_type": "execute_result",
          "data": {
            "text/html": [
              "<div>\n",
              "<style scoped>\n",
              "    .dataframe tbody tr th:only-of-type {\n",
              "        vertical-align: middle;\n",
              "    }\n",
              "\n",
              "    .dataframe tbody tr th {\n",
              "        vertical-align: top;\n",
              "    }\n",
              "\n",
              "    .dataframe thead th {\n",
              "        text-align: right;\n",
              "    }\n",
              "</style>\n",
              "<table border=\"1\" class=\"dataframe\">\n",
              "  <thead>\n",
              "    <tr style=\"text-align: right;\">\n",
              "      <th></th>\n",
              "      <th>Age</th>\n",
              "      <th>Patient's Years</th>\n",
              "      <th>N_positive_ax</th>\n",
              "      <th>survival_status</th>\n",
              "    </tr>\n",
              "  </thead>\n",
              "  <tbody>\n",
              "    <tr>\n",
              "      <th>0</th>\n",
              "      <td>30</td>\n",
              "      <td>64</td>\n",
              "      <td>1</td>\n",
              "      <td>1</td>\n",
              "    </tr>\n",
              "    <tr>\n",
              "      <th>1</th>\n",
              "      <td>30</td>\n",
              "      <td>62</td>\n",
              "      <td>3</td>\n",
              "      <td>1</td>\n",
              "    </tr>\n",
              "    <tr>\n",
              "      <th>2</th>\n",
              "      <td>30</td>\n",
              "      <td>65</td>\n",
              "      <td>0</td>\n",
              "      <td>1</td>\n",
              "    </tr>\n",
              "    <tr>\n",
              "      <th>3</th>\n",
              "      <td>31</td>\n",
              "      <td>59</td>\n",
              "      <td>2</td>\n",
              "      <td>1</td>\n",
              "    </tr>\n",
              "    <tr>\n",
              "      <th>4</th>\n",
              "      <td>31</td>\n",
              "      <td>65</td>\n",
              "      <td>4</td>\n",
              "      <td>1</td>\n",
              "    </tr>\n",
              "  </tbody>\n",
              "</table>\n",
              "</div>"
            ],
            "text/plain": [
              "   Age  Patient's Years  N_positive_ax  survival_status\n",
              "0   30               64              1                1\n",
              "1   30               62              3                1\n",
              "2   30               65              0                1\n",
              "3   31               59              2                1\n",
              "4   31               65              4                1"
            ]
          },
          "metadata": {
            "tags": []
          },
          "execution_count": 13
        }
      ]
    },
    {
      "cell_type": "code",
      "metadata": {
        "id": "znc1dEGO_XU2",
        "colab_type": "code",
        "colab": {}
      },
      "source": [
        "# Code here\n",
        "# Memisahkan antara feature dengan label\n",
        "X = df.drop('survival_status', axis=1)\n",
        "y = df['survival_status']"
      ],
      "execution_count": 14,
      "outputs": []
    },
    {
      "cell_type": "code",
      "metadata": {
        "id": "xRGiOhW1oWuM",
        "colab_type": "code",
        "colab": {}
      },
      "source": [
        "# Membagi data menjadi 0.25 % test size (menjawab soal nomor 1)\n",
        "from sklearn.model_selection import train_test_split\n",
        "X_train, X_test, y_train, y_test = train_test_split(X, y, test_size=0.25, stratify=y)"
      ],
      "execution_count": 15,
      "outputs": []
    },
    {
      "cell_type": "code",
      "metadata": {
        "id": "a7-FUFlHoY2Z",
        "colab_type": "code",
        "colab": {}
      },
      "source": [
        "# Menggunakan algoritma knn sebagai model classifier (menjawab soal nomor 2)\n",
        "from sklearn.neighbors import KNeighborsClassifier\n",
        "\n",
        "clf = KNeighborsClassifier()"
      ],
      "execution_count": 16,
      "outputs": []
    },
    {
      "cell_type": "code",
      "metadata": {
        "id": "drD8SeYLoaxw",
        "colab_type": "code",
        "colab": {
          "base_uri": "https://localhost:8080/",
          "height": 221
        },
        "outputId": "40c97307-b8a0-4d3b-ba0f-61a877842ae6"
      },
      "source": [
        "# Menggunakan GridSearchCV untuk hyperparameter tuning (menjawab soal nomor 3, 4, dan 5)\n",
        "from sklearn.model_selection import GridSearchCV\n",
        "\n",
        "params_grid = {\n",
        "    'n_neighbors': np.arange(1, 11, 1), \n",
        "    'weights': ['uniform', 'distance'],\n",
        "    'algorithm': ['auto', 'ball_tree', 'kd_tree', 'brute']\n",
        "}\n",
        "gscv = GridSearchCV(clf, params_grid, cv=10, scoring='roc_auc')\n",
        "\n",
        "# Melatih model dengan data training (menjawab soal nomor 6)\n",
        "gscv.fit(X_train, y_train)"
      ],
      "execution_count": 17,
      "outputs": [
        {
          "output_type": "execute_result",
          "data": {
            "text/plain": [
              "GridSearchCV(cv=10, error_score=nan,\n",
              "             estimator=KNeighborsClassifier(algorithm='auto', leaf_size=30,\n",
              "                                            metric='minkowski',\n",
              "                                            metric_params=None, n_jobs=None,\n",
              "                                            n_neighbors=5, p=2,\n",
              "                                            weights='uniform'),\n",
              "             iid='deprecated', n_jobs=None,\n",
              "             param_grid={'algorithm': ['auto', 'ball_tree', 'kd_tree', 'brute'],\n",
              "                         'n_neighbors': array([ 1,  2,  3,  4,  5,  6,  7,  8,  9, 10]),\n",
              "                         'weights': ['uniform', 'distance']},\n",
              "             pre_dispatch='2*n_jobs', refit=True, return_train_score=False,\n",
              "             scoring='roc_auc', verbose=0)"
            ]
          },
          "metadata": {
            "tags": []
          },
          "execution_count": 17
        }
      ]
    },
    {
      "cell_type": "code",
      "metadata": {
        "id": "-BYj9uqHo550",
        "colab_type": "code",
        "colab": {
          "base_uri": "https://localhost:8080/",
          "height": 34
        },
        "outputId": "0839c46f-6d7b-4bb4-cac0-c06e4667ad50"
      },
      "source": [
        "# Melihat kombinasi hyperparameter terbaik (menjawab soal nomor 7)\n",
        "gscv.best_params_"
      ],
      "execution_count": 18,
      "outputs": [
        {
          "output_type": "execute_result",
          "data": {
            "text/plain": [
              "{'algorithm': 'auto', 'n_neighbors': 8, 'weights': 'uniform'}"
            ]
          },
          "metadata": {
            "tags": []
          },
          "execution_count": 18
        }
      ]
    },
    {
      "cell_type": "code",
      "metadata": {
        "id": "qlVFBhamo8gT",
        "colab_type": "code",
        "colab": {
          "base_uri": "https://localhost:8080/",
          "height": 34
        },
        "outputId": "e424221e-4049-448d-d4ea-078c9db3cefa"
      },
      "source": [
        "# Melihat score validasi terbaik dari model (menjawab soal nomor 8)\n",
        "gscv.best_score_"
      ],
      "execution_count": 19,
      "outputs": [
        {
          "output_type": "execute_result",
          "data": {
            "text/plain": [
              "0.7007703081232493"
            ]
          },
          "metadata": {
            "tags": []
          },
          "execution_count": 19
        }
      ]
    },
    {
      "cell_type": "code",
      "metadata": {
        "id": "OUF54u9ao_vF",
        "colab_type": "code",
        "colab": {}
      },
      "source": [
        "# Memprediksi probabilitasi output dari model (menjawab soal nomor 9)\n",
        "y_pred = gscv.predict_proba(X_test)"
      ],
      "execution_count": 20,
      "outputs": []
    },
    {
      "cell_type": "code",
      "metadata": {
        "id": "agl-Mv-EpCYE",
        "colab_type": "code",
        "colab": {}
      },
      "source": [
        "# Mengambil nilai probabilitas pasien positif meninggal < 5 tahun (menjawab soal nomor 10)\n",
        "y_pred = y_pred[:, 1]"
      ],
      "execution_count": 21,
      "outputs": []
    },
    {
      "cell_type": "code",
      "metadata": {
        "id": "3Eji2nqwpEjH",
        "colab_type": "code",
        "colab": {
          "base_uri": "https://localhost:8080/",
          "height": 34
        },
        "outputId": "cfb15bce-f5a8-4b2a-df88-9660067c75be"
      },
      "source": [
        "# Melihat nilai score roc_auc untuk data test (Menjawab soal nomor 11)\n",
        "from sklearn.metrics import roc_auc_score\n",
        "\n",
        "roc_auc_score(y_test, y_pred)"
      ],
      "execution_count": 22,
      "outputs": [
        {
          "output_type": "execute_result",
          "data": {
            "text/plain": [
              "0.6587719298245613"
            ]
          },
          "metadata": {
            "tags": []
          },
          "execution_count": 22
        }
      ]
    },
    {
      "cell_type": "markdown",
      "metadata": {
        "id": "91Cbft7jpJ_c",
        "colab_type": "text"
      },
      "source": [
        "Model tidak overfit ataupun underfit, namun score yang didapat seharusnya masih dapat diperbaiki karena belum mencapai 80 %"
      ]
    },
    {
      "cell_type": "code",
      "metadata": {
        "id": "CaKOueo9pIkf",
        "colab_type": "code",
        "colab": {
          "base_uri": "https://localhost:8080/",
          "height": 391
        },
        "outputId": "c5fa0c48-4321-4191-a425-3c1029669dad"
      },
      "source": [
        "# Menggunakan RandomizedSearchCV untuk hyperparameter tuning (menjawab soal nomor 13)\n",
        "from sklearn.model_selection import RandomizedSearchCV\n",
        "from sklearn.tree import DecisionTreeClassifier\n",
        "\n",
        "tree_model = DecisionTreeClassifier()\n",
        "\n",
        "parameter_grid = {\n",
        "    'criterion': ['gini', 'entropy'], \n",
        "    'max_depth': np.arange(1, 21, 1),\n",
        "    'min_samples_leaf': np.arange(0.1, 0.5, 0.1)\n",
        "}\n",
        "rscv = RandomizedSearchCV(tree_model, parameter_grid, cv=10, scoring='roc_auc', n_iter=20)\n",
        "\n",
        "# Melatih model dengan data training (menjawab soal nomor 6)\n",
        "rscv.fit(X_train, y_train)"
      ],
      "execution_count": 23,
      "outputs": [
        {
          "output_type": "execute_result",
          "data": {
            "text/plain": [
              "RandomizedSearchCV(cv=10, error_score=nan,\n",
              "                   estimator=DecisionTreeClassifier(ccp_alpha=0.0,\n",
              "                                                    class_weight=None,\n",
              "                                                    criterion='gini',\n",
              "                                                    max_depth=None,\n",
              "                                                    max_features=None,\n",
              "                                                    max_leaf_nodes=None,\n",
              "                                                    min_impurity_decrease=0.0,\n",
              "                                                    min_impurity_split=None,\n",
              "                                                    min_samples_leaf=1,\n",
              "                                                    min_samples_split=2,\n",
              "                                                    min_weight_fraction_leaf=0.0,\n",
              "                                                    presort='deprecated',\n",
              "                                                    random_state=None,\n",
              "                                                    splitter='best'),\n",
              "                   iid='deprecated', n_iter=20, n_jobs=None,\n",
              "                   param_distributions={'criterion': ['gini', 'entropy'],\n",
              "                                        'max_depth': array([ 1,  2,  3,  4,  5,  6,  7,  8,  9, 10, 11, 12, 13, 14, 15, 16, 17,\n",
              "       18, 19, 20]),\n",
              "                                        'min_samples_leaf': array([0.1, 0.2, 0.3, 0.4])},\n",
              "                   pre_dispatch='2*n_jobs', random_state=None, refit=True,\n",
              "                   return_train_score=False, scoring='roc_auc', verbose=0)"
            ]
          },
          "metadata": {
            "tags": []
          },
          "execution_count": 23
        }
      ]
    },
    {
      "cell_type": "code",
      "metadata": {
        "id": "A7_m6fNEpQCe",
        "colab_type": "code",
        "colab": {
          "base_uri": "https://localhost:8080/",
          "height": 51
        },
        "outputId": "8ecff661-5560-494c-e3d2-8d17c639e8d0"
      },
      "source": [
        "print(\"Scoring dengan data train terbaik :\", rscv.best_score_)\n",
        "y_pred2 = rscv.predict_proba(X_test)\n",
        "y_pred2 = y_pred2[:, 1]\n",
        "print(\"Scoring dengan data test terbaik :\", roc_auc_score(y_test, y_pred2))"
      ],
      "execution_count": 24,
      "outputs": [
        {
          "output_type": "stream",
          "text": [
            "Scoring dengan data train terbaik : 0.6482668067226891\n",
            "Scoring dengan data test terbaik : 0.7083333333333334\n"
          ],
          "name": "stdout"
        }
      ]
    },
    {
      "cell_type": "markdown",
      "metadata": {
        "id": "1MD1QNjJpUMF",
        "colab_type": "text"
      },
      "source": [
        "Kedua model memiliki score yang tidak berbeda jauh, dan perlu diperbaiki agar mendapatkan hasil score yang lebih dari 80 %"
      ]
    }
  ]
}