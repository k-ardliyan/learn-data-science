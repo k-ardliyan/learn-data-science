{
  "nbformat": 4,
  "nbformat_minor": 0,
  "metadata": {
    "kernelspec": {
      "display_name": "Python 3",
      "language": "python",
      "name": "python3"
    },
    "language_info": {
      "codemirror_mode": {
        "name": "ipython",
        "version": 3
      },
      "file_extension": ".py",
      "mimetype": "text/x-python",
      "name": "python",
      "nbconvert_exporter": "python",
      "pygments_lexer": "ipython3",
      "version": "3.7.7"
    },
    "colab": {
      "name": "Tugas Hari 1.ipynb",
      "provenance": [],
      "include_colab_link": true
    }
  },
  "cells": [
    {
      "cell_type": "markdown",
      "metadata": {
        "id": "view-in-github",
        "colab_type": "text"
      },
      "source": [
        "<a href=\"https://colab.research.google.com/github/k-ardliyan/learn-data-science/blob/master/Tugas_Hari_1.ipynb\" target=\"_parent\"><img src=\"https://colab.research.google.com/assets/colab-badge.svg\" alt=\"Open In Colab\"/></a>"
      ]
    },
    {
      "cell_type": "markdown",
      "metadata": {
        "id": "37V7ZOpEwt-6",
        "colab_type": "text"
      },
      "source": [
        "<h2>Soal 1: Hello World to Python</h2>\n",
        "    \n",
        "Print Say Hello World to Python"
      ]
    },
    {
      "cell_type": "code",
      "metadata": {
        "id": "a4yR8AILwt-8",
        "colab_type": "code",
        "colab": {}
      },
      "source": [
        "# menampilkan hello world python\n",
        "print(\"Hello World Python\")"
      ],
      "execution_count": null,
      "outputs": []
    },
    {
      "cell_type": "markdown",
      "metadata": {
        "id": "fftihhaUwt_B",
        "colab_type": "text"
      },
      "source": [
        "Expected Output : \n",
        "\n",
        "Hello World Python"
      ]
    },
    {
      "cell_type": "markdown",
      "metadata": {
        "id": "1aEipc1Swt_C",
        "colab_type": "text"
      },
      "source": [
        "<h2>Soal 2: Aritmatika di Python </h2>\n",
        "    \n",
        "- Buat statement pertambahan antara 2 number di Python\n",
        "- Buat statement perkurangan antara 2 number di Python\n",
        "- Buat statement perkalian antara 2 number di Python\n",
        "- Buat statement pembagian antara 2 number di Python"
      ]
    },
    {
      "cell_type": "code",
      "metadata": {
        "id": "hOlCjZzrwt_D",
        "colab_type": "code",
        "colab": {}
      },
      "source": [
        "# aritmatika python langsung di tampilkan\n",
        "print(1+2) # 3\n",
        "print(2-1) # 1\n",
        "print(3*2) # 6\n",
        "print(4/2) # 2"
      ],
      "execution_count": null,
      "outputs": []
    },
    {
      "cell_type": "markdown",
      "metadata": {
        "id": "DgUFNMtZwt_G",
        "colab_type": "text"
      },
      "source": [
        "<h2>Quiz 3: Assign Variable dan Tipe Data Integer, Float </h2>\n",
        "\n",
        "- Buat suatu variabel a dan b, dimana a dan b adalah nilai bertipe data numeric\n",
        "- Berikan suatu nilai bertipe data integer, hasil pembagian dari a dengan b\n",
        "- Berikan suatu nilai bertipe data float, hasil pembagian dari a dengan b"
      ]
    },
    {
      "cell_type": "code",
      "metadata": {
        "id": "Qf8wzMg5wt_H",
        "colab_type": "code",
        "colab": {}
      },
      "source": [
        "# variabel a dan b numerik berupa integer defaultnya\n",
        "a = 3\n",
        "b = 2\n",
        "\n",
        "# membuat nilai diatas menjadi data integer/float\n",
        "isInteger = int(a/b)\n",
        "isFloat = float(a/b)\n",
        "\n",
        "#cek tipe data Integer\n",
        "print(type(isInteger))\n",
        "\n",
        "#tampilkan hasil\n",
        "print(isInteger)\n",
        "\n",
        "#cek tipe data Float\n",
        "print(type(isFloat))\n",
        "\n",
        "#tampilkan hasil\n",
        "print(isFloat)"
      ],
      "execution_count": null,
      "outputs": []
    },
    {
      "cell_type": "markdown",
      "metadata": {
        "id": "XmjLgW7Zwt_L",
        "colab_type": "text"
      },
      "source": [
        "<h2>Soal 4: String Operation </h2>\n",
        "\n",
        "- masukan nama depan kamu kedalam suatu variable firstname\n",
        "- masukan nama belakang kamu kedalam suatu variable lasname\n",
        "- tampilkan suatu kalimat 'Hello sanbercode, saya firstname lastname! saya siap belajar python data science.'"
      ]
    },
    {
      "cell_type": "code",
      "metadata": {
        "id": "lSRwZ7xXwt_M",
        "colab_type": "code",
        "colab": {}
      },
      "source": [
        "firstName = \"Kholifatul\"\n",
        "lastName = \"Ardliyan\"\n",
        "print(\"Hello sanbercode, saya \" + firstName + \" \" + lastName + \"! saya siap belajar python data science.\")\n",
        "\n",
        "# alternatif lain\n",
        "# print(\"Hallo sanbercode, saya\", firstName, lastName, \"! saya siap belajar python data science.\")\n",
        "# print(\"Hello sanbercode, saya %s %s! saya siap belajar python data science.\" % (firstName, lastName))\n",
        "# print(f\"Hallo sanbercode, saya {firstName} {lastName}! saya siap belajar python data science.\")"
      ],
      "execution_count": null,
      "outputs": []
    },
    {
      "cell_type": "markdown",
      "metadata": {
        "id": "0ROQJqBXwt_Q",
        "colab_type": "text"
      },
      "source": [
        "Expected Output :\n",
        "\n",
        "Hello sanbercode, saya fauzan taufik! saya siap belajar python data science."
      ]
    },
    {
      "cell_type": "markdown",
      "metadata": {
        "id": "9DaWI8xdwt_Q",
        "colab_type": "text"
      },
      "source": [
        "<h2>Soal 5: Tipe Data</h2>\n",
        "\n",
        "Lengkapi code di bawah ini untuk menghasilkan output yang sesuai"
      ]
    },
    {
      "cell_type": "code",
      "metadata": {
        "id": "wcDbgbjTwt_R",
        "colab_type": "code",
        "colab": {}
      },
      "source": [
        "p = 9.99999\n",
        "q = 'the number: '\n",
        "print(q + str(p))\n",
        "# str mengubah tipe data menjadi string"
      ],
      "execution_count": null,
      "outputs": []
    },
    {
      "cell_type": "markdown",
      "metadata": {
        "id": "wdVRjDoLwt_V",
        "colab_type": "text"
      },
      "source": [
        "Expected Output :\n",
        "\n",
        "the number: 9.99999"
      ]
    }
  ]
}